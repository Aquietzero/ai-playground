{
 "cells": [
  {
   "cell_type": "code",
   "execution_count": 1,
   "metadata": {},
   "outputs": [],
   "source": [
    "import os\n",
    "import sys\n",
    "module_path = os.path.abspath(os.path.join('..'))\n",
    "if module_path not in sys.path:\n",
    "    sys.path.append(module_path)"
   ]
  },
  {
   "cell_type": "code",
   "execution_count": 2,
   "metadata": {},
   "outputs": [],
   "source": [
    "from grid_world.Gridworld import Gridworld"
   ]
  },
  {
   "cell_type": "code",
   "execution_count": 3,
   "metadata": {},
   "outputs": [
    {
     "data": {
      "text/plain": [
       "array([['+', '-', ' ', 'P'],\n",
       "       [' ', 'W', ' ', ' '],\n",
       "       [' ', ' ', ' ', ' '],\n",
       "       [' ', ' ', ' ', ' ']], dtype='<U2')"
      ]
     },
     "execution_count": 3,
     "metadata": {},
     "output_type": "execute_result"
    }
   ],
   "source": [
    "game = Gridworld(size=4, mode='static')\n",
    "\n",
    "game.display()"
   ]
  },
  {
   "cell_type": "code",
   "execution_count": 4,
   "metadata": {},
   "outputs": [],
   "source": [
    "import numpy as np\n",
    "import torch\n",
    "import random\n",
    "import matplotlib.pyplot as plt\n",
    "import copy\n",
    "\n",
    "l1 = 64\n",
    "l2 = 200\n",
    "l3 = 100\n",
    "l4 = 4\n",
    "\n",
    "model = torch.nn.Sequential(\n",
    "    torch.nn.Linear(l1, l2),\n",
    "    torch.nn.ReLU(),\n",
    "    torch.nn.Linear(l2, l3),\n",
    "    torch.nn.ReLU(),\n",
    "    torch.nn.Linear(l3, l4),\n",
    ")\n",
    "model2 = copy.deepcopy(model)\n",
    "model2.load_state_dict(model.state_dict())\n",
    "\n",
    "loss_fn = torch.nn.MSELoss()\n",
    "learning_rate = 1e-3\n",
    "optimizer = torch.optim.Adam(model.parameters(), lr=learning_rate)\n",
    "\n",
    "gamma = 0.9 # discount factor\n",
    "epsilon = 0.3"
   ]
  },
  {
   "cell_type": "code",
   "execution_count": 5,
   "metadata": {},
   "outputs": [],
   "source": [
    "action_set = {\n",
    "    0: 'u',\n",
    "    1: 'd',\n",
    "    2: 'l',\n",
    "    3: 'r',\n",
    "}"
   ]
  },
  {
   "cell_type": "code",
   "execution_count": 6,
   "metadata": {},
   "outputs": [],
   "source": [
    "from collections import deque\n",
    "\n",
    "epochs = 5000\n",
    "mem_size = 1000 # total size of the experience replay memory\n",
    "batch_size = 400\n",
    "replay = deque(maxlen=mem_size) # experience buffer\n",
    "max_moves = 50\n",
    "sync_freq = 100 # every 50 steps parameters will be copied to model2\n",
    "\n",
    "def train(epochs):\n",
    "    losses = []\n",
    "    epsilon = 0.3\n",
    "    j = 0\n",
    "\n",
    "    for i in range(epochs):\n",
    "        game = Gridworld(size=4, mode='random')\n",
    "        state1_ = game.board.render_np().reshape(1, 64) + np.random.rand(1, 64) / 100.0\n",
    "        state1 = torch.from_numpy(state1_).float()\n",
    "        is_over = False\n",
    "        mov = 0\n",
    "\n",
    "        while (not is_over):\n",
    "            j += 1\n",
    "            mov += 1\n",
    "            # runs the Q-network to calculate the Q values for all actions\n",
    "            qval = model(state1)\n",
    "            qval_ = qval.data.numpy()\n",
    "            # use epsilon-greedy to select an action\n",
    "            if random.random() < epsilon:\n",
    "                action_ = np.random.randint(0, 4)\n",
    "            else:\n",
    "                action_ = np.argmax(qval_)\n",
    "\n",
    "            # take the action\n",
    "            action = action_set[action_]\n",
    "            game.makeMove(action)\n",
    "            # after making the move, finds the maximum Q value from the\n",
    "            # new state\n",
    "            state2_ = game.board.render_np().reshape(1, 64) + np.random.rand(1, 64) / 100.0\n",
    "            state2 = torch.from_numpy(state2_).float()\n",
    "            reward = game.reward()\n",
    "            done = True if reward > 0 else False\n",
    "            # adds experience to replay buffer\n",
    "            exp = (state1, action_, reward, state2, done)\n",
    "            replay.append(exp)\n",
    "            state1 = state2\n",
    "\n",
    "            if len(replay) > batch_size:\n",
    "                minibatch = random.sample(replay, batch_size)\n",
    "                state1_batch = torch.cat([s1 for (s1, a, r, s2, d) in minibatch])\n",
    "                action_batch = torch.Tensor([a for (s1, a, r, s2, d) in minibatch])\n",
    "                reward_batch = torch.Tensor([r for (s1, a, r, s2, d) in minibatch])\n",
    "                state2_batch = torch.cat([s2 for (s1, a, r, s2, d) in minibatch])\n",
    "                done_batch = torch.Tensor([d for (s1, a, r, s2, d) in minibatch])\n",
    "\n",
    "                Q1 = model(state1_batch)\n",
    "                with torch.no_grad():\n",
    "                    Q2 = model2(state2_batch)\n",
    "                \n",
    "                Y = reward_batch + gamma * ((1 - done_batch) * torch.max(Q2, dim=1)[0])\n",
    "                X = Q1.gather(dim=1, index=action_batch.long().unsqueeze(dim=1)).squeeze()\n",
    "\n",
    "                loss = loss_fn(X, Y.detach())\n",
    "                optimizer.zero_grad()\n",
    "                loss.backward()\n",
    "                losses.append(loss.item())\n",
    "                optimizer.step()\n",
    "\n",
    "                if j % sync_freq == 0:\n",
    "                    model2.load_state_dict(model.state_dict())\n",
    "\n",
    "            if reward != -1 or mov > max_moves:\n",
    "                is_over = True\n",
    "                mov = 0\n",
    "\n",
    "    return losses\n"
   ]
  },
  {
   "cell_type": "code",
   "execution_count": 7,
   "metadata": {},
   "outputs": [],
   "source": [
    "losses = train(epochs)"
   ]
  },
  {
   "cell_type": "code",
   "execution_count": 8,
   "metadata": {},
   "outputs": [
    {
     "data": {
      "text/plain": [
       "[<matplotlib.lines.Line2D at 0x1691cc0a0>]"
      ]
     },
     "execution_count": 8,
     "metadata": {},
     "output_type": "execute_result"
    },
    {
     "data": {
      "image/png": "[encoded data removed]",
      "text/plain": [
       "<Figure size 640x480 with 1 Axes>"
      ]
     },
     "metadata": {},
     "output_type": "display_data"
    }
   ],
   "source": [
    "plt.xlabel('Epochs')\n",
    "plt.ylabel('Loss')\n",
    "plt.plot(np.arange(len(losses)), losses)"
   ]
  },
  {
   "cell_type": "code",
   "execution_count": 17,
   "metadata": {},
   "outputs": [],
   "source": [
    "def test_model(model, mode='static', display=True):\n",
    "    i = 0\n",
    "    test_game = Gridworld(size=4, mode=mode)\n",
    "    state_ = test_game.board.render_np().reshape(1, 64) + np.random.rand(1, 64) / 10.0\n",
    "    state = torch.from_numpy(state_).float()\n",
    "\n",
    "    if display:\n",
    "        print('Initial State:')\n",
    "        print(test_game.display())\n",
    "    \n",
    "    status = 1\n",
    "    while(status == 1):\n",
    "        qval = model(state)\n",
    "        qval_ = qval.data.numpy()\n",
    "        action_ = np.argmax(qval_)\n",
    "        action = action_set[action_]\n",
    "        if display:\n",
    "            print('Move #: %s; Taking action: %s' % (i, action))\n",
    "        test_game.makeMove(action)\n",
    "        state_ = test_game.board.render_np().reshape(1, 64) + np.random.rand(1, 64) / 10.0\n",
    "        state = torch.from_numpy(state_).float()\n",
    "\n",
    "        if display:\n",
    "            print(test_game.display())\n",
    "        reward = test_game.reward()\n",
    "\n",
    "        if reward != -1:\n",
    "            if reward > 0:\n",
    "                status = 2\n",
    "                if display:\n",
    "                    print('Game won! Reward %s' % (reward, ))\n",
    "            else:\n",
    "                status = 0\n",
    "                if display:\n",
    "                    print('Game lost! Reward %s' % (reward, ))\n",
    "\n",
    "        i += 1\n",
    "        if (i > 15):\n",
    "            if display:\n",
    "                print('Game lost, too many moves')\n",
    "            break\n",
    "\n",
    "    win = True if status == 2 else False\n",
    "    return win\n"
   ]
  },
  {
   "cell_type": "code",
   "execution_count": 18,
   "metadata": {},
   "outputs": [
    {
     "name": "stdout",
     "output_type": "stream",
     "text": [
      "win rate in random mode: 910/1000\n"
     ]
    }
   ],
   "source": [
    "win_count = 0\n",
    "total_test_games = 1000\n",
    "\n",
    "for i in range(total_test_games):\n",
    "    does_win = test_model(model, 'random', False)\n",
    "    if does_win:\n",
    "        win_count += 1\n",
    "\n",
    "print('win rate in random mode: %d/%d' % (win_count, total_test_games))"
   ]
  },
  {
   "cell_type": "code",
   "execution_count": null,
   "metadata": {},
   "outputs": [],
   "source": []
  }
 ],
 "metadata": {
  "kernelspec": {
   "display_name": "tensorflow",
   "language": "python",
   "name": "python3"
  },
  "language_info": {
   "codemirror_mode": {
    "name": "ipython",
    "version": 3
   },
   "file_extension": ".py",
   "mimetype": "text/x-python",
   "name": "python",
   "nbconvert_exporter": "python",
   "pygments_lexer": "ipython3",
   "version": "3.9.18"
  }
 },
 "nbformat": 4,
 "nbformat_minor": 2
}

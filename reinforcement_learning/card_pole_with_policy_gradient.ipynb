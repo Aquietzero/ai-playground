{
 "cells": [
  {
   "cell_type": "code",
   "execution_count": 1,
   "metadata": {},
   "outputs": [],
   "source": [
    "import gymnasium"
   ]
  },
  {
   "cell_type": "code",
   "execution_count": 2,
   "metadata": {},
   "outputs": [
    {
     "data": {
      "text/plain": [
       "['CartPole-v0',\n",
       " 'CartPole-v1',\n",
       " 'MountainCar-v0',\n",
       " 'MountainCarContinuous-v0',\n",
       " 'Pendulum-v1',\n",
       " 'Acrobot-v1',\n",
       " 'phys2d/CartPole-v0',\n",
       " 'phys2d/CartPole-v1',\n",
       " 'phys2d/Pendulum-v0',\n",
       " 'LunarLander-v2',\n",
       " 'LunarLanderContinuous-v2',\n",
       " 'BipedalWalker-v3',\n",
       " 'BipedalWalkerHardcore-v3',\n",
       " 'CarRacing-v2',\n",
       " 'Blackjack-v1',\n",
       " 'FrozenLake-v1',\n",
       " 'FrozenLake8x8-v1',\n",
       " 'CliffWalking-v0',\n",
       " 'Taxi-v3',\n",
       " 'tabular/Blackjack-v0',\n",
       " 'tabular/CliffWalking-v0',\n",
       " 'Reacher-v2',\n",
       " 'Reacher-v4',\n",
       " 'Pusher-v2',\n",
       " 'Pusher-v4',\n",
       " 'InvertedPendulum-v2',\n",
       " 'InvertedPendulum-v4',\n",
       " 'InvertedDoublePendulum-v2',\n",
       " 'InvertedDoublePendulum-v4',\n",
       " 'HalfCheetah-v2',\n",
       " 'HalfCheetah-v3',\n",
       " 'HalfCheetah-v4',\n",
       " 'Hopper-v2',\n",
       " 'Hopper-v3',\n",
       " 'Hopper-v4',\n",
       " 'Swimmer-v2',\n",
       " 'Swimmer-v3',\n",
       " 'Swimmer-v4',\n",
       " 'Walker2d-v2',\n",
       " 'Walker2d-v3',\n",
       " 'Walker2d-v4',\n",
       " 'Ant-v2',\n",
       " 'Ant-v3',\n",
       " 'Ant-v4',\n",
       " 'Humanoid-v2',\n",
       " 'Humanoid-v3',\n",
       " 'Humanoid-v4',\n",
       " 'HumanoidStandup-v2',\n",
       " 'HumanoidStandup-v4',\n",
       " 'GymV21Environment-v0',\n",
       " 'GymV26Environment-v0']"
      ]
     },
     "execution_count": 2,
     "metadata": {},
     "output_type": "execute_result"
    }
   ],
   "source": [
    "from gymnasium import envs\n",
    "\n",
    "list(envs.registry.keys())"
   ]
  },
  {
   "cell_type": "code",
   "execution_count": 3,
   "metadata": {},
   "outputs": [],
   "source": [
    "env = gymnasium.make('CartPole-v1')"
   ]
  },
  {
   "cell_type": "markdown",
   "metadata": {},
   "source": [
    "有关 CartPole 这个环境的文档可以参见[这里](https://gymnasium.farama.org/environments/classic_control/cart_pole/)\n"
   ]
  },
  {
   "cell_type": "code",
   "execution_count": 4,
   "metadata": {},
   "outputs": [],
   "source": [
    "state1 = env.reset()\n",
    "action = env.action_space.sample()\n",
    "state, reward, terminated, truncated, info = env.step(action)"
   ]
  },
  {
   "cell_type": "code",
   "execution_count": 5,
   "metadata": {},
   "outputs": [
    {
     "data": {
      "text/plain": [
       "(array([ 0.03734683,  0.04601932, -0.01780077, -0.01990016], dtype=float32),\n",
       " {})"
      ]
     },
     "execution_count": 5,
     "metadata": {},
     "output_type": "execute_result"
    }
   ],
   "source": [
    "state1"
   ]
  },
  {
   "cell_type": "markdown",
   "metadata": {},
   "source": [
    "`reset` 方法用于重置环境并返回第一个状态，最新版本的 gymnasium 的 api 和大部分教材都不一样，这需要注意。有关 `env` 的文档可以参见[这里](https://gymnasium.farama.org/api/env/#gymnasium.Env.step)"
   ]
  },
  {
   "cell_type": "code",
   "execution_count": 6,
   "metadata": {},
   "outputs": [
    {
     "data": {
      "text/plain": [
       "(array([ 0.03826722, -0.14884289, -0.01819877,  0.2671137 ], dtype=float32),\n",
       " 1.0,\n",
       " False,\n",
       " False,\n",
       " {})"
      ]
     },
     "execution_count": 6,
     "metadata": {},
     "output_type": "execute_result"
    }
   ],
   "source": [
    "state, reward, terminated, truncated, info"
   ]
  },
  {
   "cell_type": "code",
   "execution_count": 7,
   "metadata": {},
   "outputs": [],
   "source": [
    "import torch"
   ]
  },
  {
   "cell_type": "code",
   "execution_count": 8,
   "metadata": {},
   "outputs": [],
   "source": [
    "l1 = 4   # size of state space is 4\n",
    "l2 = 150 # hidden layer\n",
    "l3 = 2   # size of action space\n",
    "\n",
    "model = torch.nn.Sequential(\n",
    "    torch.nn.Linear(l1, l2),\n",
    "    torch.nn.LeakyReLU(),\n",
    "    torch.nn.Linear(l2, l3),\n",
    "    torch.nn.Softmax()\n",
    ")\n",
    "\n",
    "learning_rate = 0.0009\n",
    "optimizer = torch.optim.Adam(model.parameters(), lr=learning_rate)"
   ]
  },
  {
   "cell_type": "code",
   "execution_count": 9,
   "metadata": {},
   "outputs": [],
   "source": [
    "def discount_rewards(rewards, gamma=0.99):\n",
    "\tlenr = len(rewards)\n",
    "\tdisc_return = torch.pow(gamma, torch.arange(lenr).float()) * rewards\n",
    "\t# normalize rewards to be within [0, 1] to improve numerical stability\n",
    "\tdisc_return /= disc_return.max()\n",
    "\treturn disc_return"
   ]
  },
  {
   "cell_type": "code",
   "execution_count": 10,
   "metadata": {},
   "outputs": [],
   "source": [
    "def loss_fn(preds, r):\n",
    "\treturn -1 * torch.sum(r * torch.log(preds))"
   ]
  },
  {
   "cell_type": "code",
   "execution_count": 11,
   "metadata": {},
   "outputs": [
    {
     "name": "stderr",
     "output_type": "stream",
     "text": [
      "/Users/bifnudozhao/miniconda3/envs/tensorflow/lib/python3.9/site-packages/torch/nn/modules/module.py:1518: UserWarning: Implicit dimension choice for softmax has been deprecated. Change the call to include dim=X as an argument.\n",
      "  return self._call_impl(*args, **kwargs)\n",
      "/var/folders/63/hmm24s352qv_4vs09n66p97m0000gn/T/ipykernel_88708/1603912446.py:26: UserWarning: Creating a tensor from a list of numpy.ndarrays is extremely slow. Please consider converting the list to a single numpy.ndarray with numpy.array() before converting to a tensor. (Triggered internally at /Users/runner/work/pytorch/pytorch/pytorch/torch/csrc/utils/tensor_new.cpp:264.)\n",
      "  state_batch = torch.Tensor([s for (s, a, r) in transitions])\n"
     ]
    }
   ],
   "source": [
    "import numpy as np\n",
    "\n",
    "MAX_DUR = 200\n",
    "MAX_EPISODES = 2000\n",
    "gamma = 0.99\n",
    "score = []\n",
    "for episode in range(MAX_EPISODES):\n",
    "    curr_state, info = env.reset()\n",
    "    done = False\n",
    "    transitions = []\n",
    "\n",
    "    for t in range(MAX_DUR):\n",
    "        act_prob = model(torch.from_numpy(curr_state).float())\n",
    "        action = np.random.choice(np.array([0, 1]), p=act_prob.data.numpy())\n",
    "        prev_state = curr_state\n",
    "        curr_state, _, terminated, truncated, info = env.step(action)\n",
    "        transitions.append((prev_state, action, t+1))\n",
    "\n",
    "        if terminated or truncated:\n",
    "            break\n",
    "\n",
    "    ep_len = len(transitions)\n",
    "    score.append(ep_len)\n",
    "    reward_batch = torch.Tensor([r for (s, a, r) in transitions]).flip(dims=(0,))\n",
    "    disc_rewards = discount_rewards(reward_batch)\n",
    "    state_batch = torch.Tensor([s for (s, a, r) in transitions]) \n",
    "    action_batch = torch.Tensor([a for (s, a, r) in transitions]) \n",
    "    # recomputes the action probabilities for all the states in the episode\n",
    "    pred_batch = model(state_batch)\n",
    "    # subsets the action-probabilities associated with the actions that were actually taken\n",
    "    prob_batch = pred_batch.gather(dim=1, index=action_batch.long().view(-1, 1)).squeeze()\n",
    "    loss = loss_fn(prob_batch, disc_rewards)\n",
    "    optimizer.zero_grad()\n",
    "    loss.backward()\n",
    "    optimizer.step()\n"
   ]
  },
  {
   "cell_type": "code",
   "execution_count": 12,
   "metadata": {},
   "outputs": [],
   "source": [
    "def running_mean(x, N=50):\n",
    "    kernel = np.ones(N)\n",
    "    conv_len = x.shape[0]-N\n",
    "    y = np.zeros(conv_len)\n",
    "    for i in range(conv_len):\n",
    "        y[i] = kernel @ x[i:i+N]\n",
    "        y[i] /= N\n",
    "    return y"
   ]
  },
  {
   "cell_type": "code",
   "execution_count": 13,
   "metadata": {},
   "outputs": [
    {
     "data": {
      "text/plain": [
       "[<matplotlib.lines.Line2D at 0x168118d90>]"
      ]
     },
     "execution_count": 13,
     "metadata": {},
     "output_type": "execute_result"
    },
    {
     "data": {
      "image/png": "[encoded data removed]",
      "text/plain": [
       "<Figure size 640x480 with 1 Axes>"
      ]
     },
     "metadata": {},
     "output_type": "display_data"
    }
   ],
   "source": [
    "import matplotlib.pyplot as plt\n",
    "\n",
    "avg_score = running_mean(np.array(score), 50)\n",
    "plt.ylabel(\"Episode Duration\")\n",
    "plt.xlabel(\"Traning Epochs\")\n",
    "plt.plot(avg_score)"
   ]
  },
  {
   "cell_type": "code",
   "execution_count": 14,
   "metadata": {},
   "outputs": [
    {
     "name": "stderr",
     "output_type": "stream",
     "text": [
      "/Users/bifnudozhao/miniconda3/envs/tensorflow/lib/python3.9/site-packages/torch/nn/modules/module.py:1518: UserWarning: Implicit dimension choice for softmax has been deprecated. Change the call to include dim=X as an argument.\n",
      "  return self._call_impl(*args, **kwargs)\n"
     ]
    },
    {
     "data": {
      "text/plain": [
       "<matplotlib.collections.PathCollection at 0x168201d60>"
      ]
     },
     "execution_count": 14,
     "metadata": {},
     "output_type": "execute_result"
    },
    {
     "data": {
      "image/png": "[encoded data removed]",
      "text/plain": [
       "<Figure size 640x480 with 1 Axes>"
      ]
     },
     "metadata": {},
     "output_type": "display_data"
    }
   ],
   "source": [
    "def test_model(model):\n",
    "    score = []\n",
    "    games = 100\n",
    "    state1, info = env.reset()\n",
    "    truncated = False\n",
    "    terminated = False\n",
    "\n",
    "    for i in range(games):\n",
    "        t = 0\n",
    "        while not (truncated or terminated):\n",
    "            pred = model(torch.from_numpy(state1).float())\n",
    "            action = np.random.choice(np.array([0, 1]), p=pred.data.numpy())\n",
    "            state2, reward, terminated, truncated, info = env.step(action)\n",
    "            state1 = state2\n",
    "            t += 1\n",
    "            if t > MAX_DUR:\n",
    "                break\n",
    "\n",
    "        state1, info = env.reset()\n",
    "        terminated = False\n",
    "        truncated = False\n",
    "        score.append(t)\n",
    "\n",
    "    return score\n",
    "\n",
    "history = test_model(model)\n",
    "plt.scatter(np.arange(len(history)), np.array(history))"
   ]
  },
  {
   "cell_type": "code",
   "execution_count": null,
   "metadata": {},
   "outputs": [],
   "source": []
  }
 ],
 "metadata": {
  "kernelspec": {
   "display_name": "tensorflow",
   "language": "python",
   "name": "python3"
  },
  "language_info": {
   "codemirror_mode": {
    "name": "ipython",
    "version": 3
   },
   "file_extension": ".py",
   "mimetype": "text/x-python",
   "name": "python",
   "nbconvert_exporter": "python",
   "pygments_lexer": "ipython3",
   "version": "3.9.18"
  }
 },
 "nbformat": 4,
 "nbformat_minor": 2
}

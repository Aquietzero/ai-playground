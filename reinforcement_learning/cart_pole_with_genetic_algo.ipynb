{
 "cells": [
  {
   "cell_type": "code",
   "execution_count": 2,
   "metadata": {},
   "outputs": [],
   "source": [
    "import numpy as np\n",
    "import torch"
   ]
  },
  {
   "cell_type": "code",
   "execution_count": 19,
   "metadata": {},
   "outputs": [],
   "source": [
    "import os\n",
    "\n",
    "def clear_console():\n",
    "    os.system('cls' if os.name == 'nt' else 'clear')"
   ]
  },
  {
   "cell_type": "code",
   "execution_count": 3,
   "metadata": {},
   "outputs": [],
   "source": [
    "def model(state, unpacked_params):\n",
    "    l1, b1, l2, b2, l3, b3 = unpacked_params\n",
    "    y = torch.nn.functional.linear(state, l1, b1)\n",
    "    y = torch.relu(y)\n",
    "    y = torch.nn.functional.linear(y, l2, b2)\n",
    "    y = torch.relu(y)\n",
    "    y = torch.nn.functional.linear(y, l3, b3)\n",
    "    y = torch.log_softmax(y, dim=0)\n",
    "    return y"
   ]
  },
  {
   "cell_type": "markdown",
   "metadata": {},
   "source": [
    "为了让重组和变异更简单，我们创建一个一维张量作为一个 population，这个 population 使用的时候会被转化为独立的矩阵作为神经网络每一层的参数。"
   ]
  },
  {
   "cell_type": "code",
   "execution_count": 15,
   "metadata": {},
   "outputs": [],
   "source": [
    "def unpack_params(params, layers=[(25, 4), (10, 25), (2, 10)]):\n",
    "    unpacked_params = []\n",
    "    end = 0\n",
    "    for i, l in enumerate(layers):\n",
    "        # [n, n, n, n, n, n, n, n, n, n, n, ......]\n",
    "        #  ^                    ^\n",
    "        # start                end\n",
    "        # capture the elements of the layer in the flat params array\n",
    "        start, end = end, end + np.prod(l) # 25 x 4\n",
    "        # calling `view` reshapes the flat array into shape `l`\n",
    "        weights = params[start:end].view(l)\n",
    "        start, end = end, end + l[0]\n",
    "        bias = params[start:end]\n",
    "        unpacked_params.extend([weights, bias])\n",
    "    return unpacked_params"
   ]
  },
  {
   "cell_type": "markdown",
   "metadata": {},
   "source": [
    "这种将所有参数变为一个一维数组可以方便重组和变异。而另一种方式是，可以将一层的参数视为“染色体”，在重组和变异的时候，只在同样“形状”的染色体之间进行。这种做法比较复杂，但好处在于不同层之间的参数不会相互泄露和混合。"
   ]
  },
  {
   "cell_type": "code",
   "execution_count": 5,
   "metadata": {},
   "outputs": [],
   "source": [
    "# N: number of individuals in the population\n",
    "# size: the length of the parameter vectors\n",
    "# \n",
    "# in this case\n",
    "#   size = (25 x 4 + 25) + (10 x 25 + 10) + (2 x 10 + 2) = 407\n",
    "#             layer1            layer2          layer3\n",
    "def spawn_population(N=50, size=407):\n",
    "    pop = []\n",
    "    for i in range (N):\n",
    "        vec = torch.randn(size) / 2.0\n",
    "        fit = 0\n",
    "        p = { 'params': vec, 'fitness': fit }\n",
    "        pop.append(p)\n",
    "    return pop"
   ]
  },
  {
   "cell_type": "code",
   "execution_count": 17,
   "metadata": {},
   "outputs": [],
   "source": [
    "def recombine(agent1, agent2):\n",
    "    x1 = agent1['params']\n",
    "    x2 = agent2['params']\n",
    "    l = x1.shape[0]\n",
    "    split_pt = np.random.randint(l)\n",
    "    child1 = torch.zeros(l)\n",
    "    child2 = torch.zeros(l)\n",
    "    child1[0:split_pt] = x1[0:split_pt]\n",
    "    child1[split_pt:] = x2[split_pt:]\n",
    "    child2[0:split_pt] = x2[0:split_pt]\n",
    "    child2[split_pt:] = x1[split_pt:]\n",
    "    c1 = { 'params': child1, 'fitness': 0.0 }\n",
    "    c2 = { 'params': child2, 'fitness': 0.0 }\n",
    "    return c1, c2"
   ]
  },
  {
   "cell_type": "code",
   "execution_count": 7,
   "metadata": {},
   "outputs": [],
   "source": [
    "def mutate(agent, rate=0.01):\n",
    "    x = agent['params']\n",
    "    # number of elements to change\n",
    "    num_to_change = int(rate * x.shape[0])\n",
    "    # select the indexes of the elements which are about to change\n",
    "    idx = np.random.randint(low=0, high=x.shape[0], size=(num_to_change,))\n",
    "    x[idx] = torch.randn(num_to_change) / 10.0\n",
    "    agent['params'] = x\n",
    "    return agent"
   ]
  },
  {
   "cell_type": "code",
   "execution_count": 13,
   "metadata": {},
   "outputs": [],
   "source": [
    "import gymnasium\n",
    "\n",
    "env = gymnasium.make('CartPole-v1')\n",
    "\n",
    "def test_model(agent):\n",
    "    done = False\n",
    "    state = torch.from_numpy(env.reset()[0]).float()\n",
    "    score = 0\n",
    "    while not done:\n",
    "        params = unpack_params(agent['params'])\n",
    "        probs = model(state, params)\n",
    "        action = torch.distributions.Categorical(probs=probs).sample()\n",
    "        state_, reward, done, truncated, info = env.step(action.item())\n",
    "        state = torch.from_numpy(state_).float()\n",
    "        score += 1\n",
    "    return score"
   ]
  },
  {
   "cell_type": "code",
   "execution_count": 9,
   "metadata": {},
   "outputs": [],
   "source": [
    "def evaluate_population(pop):\n",
    "    tot_fit = 0\n",
    "    lp = len(pop) \n",
    "    for agent in pop:\n",
    "        score = test_model(agent)\n",
    "        agent['fitness'] = score\n",
    "        tot_fit += score\n",
    "    avg_fit = tot_fit / lp\n",
    "    return pop, avg_fit"
   ]
  },
  {
   "cell_type": "markdown",
   "metadata": {},
   "source": [
    "在生成下一代的时候，需要对 parents 进行选择，**probalistic selection mechanism** 是基于 `fitness` 值进行的，以这一代的所有 `agent.fitness` 生成概率分布，然后基于这个概率分布选择 parents。对于遗传算法来说，这种方法一般会导致收敛非常快，效果不一定很好。遗传算法需要更多的 exploration，所以这里我们采用一种叫 **tournament-style selection** 的算法。\n",
    "\n",
    "在这种算法中，先随机从这一代选取 `tournament_size` 个数的个体，然后从中选择 `fitness` 值最高的两个作为 parents。当 `tournament_size` 为 population 个数的时候，就是最优选择，当其为 2 的时候，就是随机选择。通常可以设定一个基于 population 大小的比例，比如 20%。当然这个值也是一个超参数，是需要实验的。"
   ]
  },
  {
   "cell_type": "code",
   "execution_count": 10,
   "metadata": {},
   "outputs": [],
   "source": [
    "def next_generation(pop, mut_rate=0.001, tournament_size=0.2):\n",
    "    new_pop = []\n",
    "    lp = len(pop)\n",
    "    while len(new_pop) < len(pop):\n",
    "        random_indexes = np.random.randint(low=0, high=lp, size=(int(tournament_size * lp)))\n",
    "        # selects a subset of the population as the tournament batch\n",
    "        batch = np.array([\n",
    "            [i, agent['fitness']] for (i, agent) in enumerate(pop) if i in random_indexes\n",
    "        ])\n",
    "        # from low to high\n",
    "        scores = batch[batch[:, 1].argsort()]\n",
    "        i0, i1 = int(scores[-1][0]), int(scores[-2][0])\n",
    "        parent0, parent1 = pop[i0], pop[i1]\n",
    "        offspring_ = recombine(parent0, parent1)\n",
    "        child1 = mutate(offspring_[0], rate=mut_rate)\n",
    "        child2 = mutate(offspring_[1], rate=mut_rate)\n",
    "        offspring = [child1, child2]\n",
    "        new_pop.extend(offspring)\n",
    "    return new_pop"
   ]
  },
  {
   "cell_type": "code",
   "execution_count": 20,
   "metadata": {},
   "outputs": [],
   "source": [
    "def train():\n",
    "    num_generations = 25\n",
    "    population_size = 500\n",
    "    mutation_rate = 0.01\n",
    "    pop_fit = []\n",
    "    pop = spawn_population(N=population_size, size=407)\n",
    "    for i in range(num_generations):\n",
    "        pop, avg_fit = evaluate_population(pop)\n",
    "        pop_fit.append(avg_fit)\n",
    "        pop = next_generation(pop, mut_rate=mutation_rate, tournament_size=0.2)\n",
    "\n",
    "        clear_console()\n",
    "        print('%d / %d' % (i + 1, num_generations))\n",
    "    \n",
    "    return pop_fit"
   ]
  },
  {
   "cell_type": "code",
   "execution_count": 21,
   "metadata": {},
   "outputs": [
    {
     "name": "stdout",
     "output_type": "stream",
     "text": [
      "\u001b[H\u001b[2J1 / 25\n",
      "\u001b[H\u001b[2J2 / 25\n",
      "\u001b[H\u001b[2J3 / 25\n",
      "\u001b[H\u001b[2J4 / 25\n",
      "\u001b[H\u001b[2J5 / 25\n",
      "\u001b[H\u001b[2J6 / 25\n",
      "\u001b[H\u001b[2J7 / 25\n",
      "\u001b[H\u001b[2J8 / 25\n",
      "\u001b[H\u001b[2J9 / 25\n",
      "\u001b[H\u001b[2J10 / 25\n",
      "\u001b[H\u001b[2J11 / 25\n",
      "\u001b[H\u001b[2J12 / 25\n",
      "\u001b[H\u001b[2J13 / 25\n",
      "\u001b[H\u001b[2J14 / 25\n",
      "\u001b[H\u001b[2J15 / 25\n",
      "\u001b[H\u001b[2J16 / 25\n",
      "\u001b[H\u001b[2J17 / 25\n",
      "\u001b[H\u001b[2J18 / 25\n",
      "\u001b[H\u001b[2J19 / 25\n",
      "\u001b[H\u001b[2J20 / 25\n",
      "\u001b[H\u001b[2J21 / 25\n",
      "\u001b[H\u001b[2J22 / 25\n",
      "\u001b[H\u001b[2J23 / 25\n",
      "\u001b[H\u001b[2J24 / 25\n",
      "\u001b[H\u001b[2J25 / 25\n"
     ]
    }
   ],
   "source": [
    "history = train()"
   ]
  },
  {
   "cell_type": "code",
   "execution_count": 23,
   "metadata": {},
   "outputs": [
    {
     "data": {
      "text/plain": [
       "[<matplotlib.lines.Line2D at 0x169506dc0>]"
      ]
     },
     "execution_count": 23,
     "metadata": {},
     "output_type": "execute_result"
    },
    {
     "data": {
      "image/png": "[encoded data removed]",
      "text/plain": [
       "<Figure size 640x480 with 1 Axes>"
      ]
     },
     "metadata": {},
     "output_type": "display_data"
    }
   ],
   "source": [
    "import matplotlib.pyplot as plt\n",
    "\n",
    "plt.xlabel('generation')\n",
    "plt.ylabel('avg fitness')\n",
    "plt.plot(history)"
   ]
  },
  {
   "cell_type": "code",
   "execution_count": null,
   "metadata": {},
   "outputs": [],
   "source": []
  }
 ],
 "metadata": {
  "kernelspec": {
   "display_name": "tensorflow",
   "language": "python",
   "name": "python3"
  },
  "language_info": {
   "codemirror_mode": {
    "name": "ipython",
    "version": 3
   },
   "file_extension": ".py",
   "mimetype": "text/x-python",
   "name": "python",
   "nbconvert_exporter": "python",
   "pygments_lexer": "ipython3",
   "version": "3.9.18"
  }
 },
 "nbformat": 4,
 "nbformat_minor": 2
}

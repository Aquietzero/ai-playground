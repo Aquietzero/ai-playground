{
 "cells": [
  {
   "cell_type": "code",
   "execution_count": 1,
   "metadata": {},
   "outputs": [],
   "source": [
    "import os\n",
    "import sys\n",
    "module_path = os.path.abspath(os.path.join('..'))\n",
    "if module_path not in sys.path:\n",
    "    sys.path.append(module_path)"
   ]
  },
  {
   "cell_type": "code",
   "execution_count": 6,
   "metadata": {},
   "outputs": [],
   "source": [
    "from grid_world.Gridworld import Gridworld"
   ]
  },
  {
   "cell_type": "code",
   "execution_count": 7,
   "metadata": {},
   "outputs": [
    {
     "data": {
      "text/plain": [
       "array([['+', '-', ' ', 'P'],\n",
       "       [' ', 'W', ' ', ' '],\n",
       "       [' ', ' ', ' ', ' '],\n",
       "       [' ', ' ', ' ', ' ']], dtype='<U2')"
      ]
     },
     "execution_count": 7,
     "metadata": {},
     "output_type": "execute_result"
    }
   ],
   "source": [
    "game = Gridworld(size=4, mode='static')\n",
    "\n",
    "game.display()"
   ]
  },
  {
   "cell_type": "code",
   "execution_count": 8,
   "metadata": {},
   "outputs": [
    {
     "data": {
      "text/plain": [
       "array([['+', '-', ' ', ' '],\n",
       "       [' ', 'W', ' ', ' '],\n",
       "       [' ', ' ', 'P', ' '],\n",
       "       [' ', ' ', ' ', ' ']], dtype='<U2')"
      ]
     },
     "execution_count": 8,
     "metadata": {},
     "output_type": "execute_result"
    }
   ],
   "source": [
    "game.makeMove('d')\n",
    "game.makeMove('d')\n",
    "game.makeMove('l')\n",
    "game.display()"
   ]
  },
  {
   "cell_type": "code",
   "execution_count": 9,
   "metadata": {},
   "outputs": [
    {
     "data": {
      "text/plain": [
       "-1"
      ]
     },
     "execution_count": 9,
     "metadata": {},
     "output_type": "execute_result"
    }
   ],
   "source": [
    "game.reward()"
   ]
  },
  {
   "cell_type": "code",
   "execution_count": 10,
   "metadata": {},
   "outputs": [
    {
     "data": {
      "text/plain": [
       "array([[[0, 0, 0, 0],\n",
       "        [0, 0, 0, 0],\n",
       "        [0, 0, 1, 0],\n",
       "        [0, 0, 0, 0]],\n",
       "\n",
       "       [[1, 0, 0, 0],\n",
       "        [0, 0, 0, 0],\n",
       "        [0, 0, 0, 0],\n",
       "        [0, 0, 0, 0]],\n",
       "\n",
       "       [[0, 1, 0, 0],\n",
       "        [0, 0, 0, 0],\n",
       "        [0, 0, 0, 0],\n",
       "        [0, 0, 0, 0]],\n",
       "\n",
       "       [[0, 0, 0, 0],\n",
       "        [0, 1, 0, 0],\n",
       "        [0, 0, 0, 0],\n",
       "        [0, 0, 0, 0]]], dtype=uint8)"
      ]
     },
     "execution_count": 10,
     "metadata": {},
     "output_type": "execute_result"
    }
   ],
   "source": [
    "game.board.render_np()"
   ]
  },
  {
   "cell_type": "code",
   "execution_count": 16,
   "metadata": {},
   "outputs": [],
   "source": [
    "import numpy as np\n",
    "import torch\n",
    "import random\n",
    "import matplotlib.pyplot as plt\n",
    "\n",
    "l1 = 64\n",
    "l2 = 150\n",
    "l3 = 100\n",
    "l4 = 4\n",
    "\n",
    "model = torch.nn.Sequential(\n",
    "    torch.nn.Linear(l1, l2),\n",
    "    torch.nn.ReLU(),\n",
    "    torch.nn.Linear(l2, l3),\n",
    "    torch.nn.ReLU(),\n",
    "    torch.nn.Linear(l3, l4),\n",
    ")\n",
    "\n",
    "loss_fn = torch.nn.MSELoss()\n",
    "learning_rate = 1e-3\n",
    "optimizer = torch.optim.Adam(model.parameters(), lr=learning_rate)\n",
    "\n",
    "gamma = 0.9 # discount factor\n",
    "epsilon = 1.0 # initialized as 1 and then decrease"
   ]
  },
  {
   "cell_type": "code",
   "execution_count": 17,
   "metadata": {},
   "outputs": [],
   "source": [
    "action_set = {\n",
    "    0: 'u',\n",
    "    1: 'd',\n",
    "    2: 'l',\n",
    "    3: 't',\n",
    "}"
   ]
  },
  {
   "cell_type": "code",
   "execution_count": 18,
   "metadata": {},
   "outputs": [],
   "source": [
    "epochs = 1000\n",
    "\n",
    "def train(epochs):\n",
    "    losses = []\n",
    "\n",
    "    for i in range(epochs):\n",
    "        game = Gridworld(size=4, mode='static')\n",
    "        state_ = game.board.render_np().reshape(1, 64) \\\n",
    "            + np.random.rand(1, 64) / 10.0\n",
    "        state1 = torch.from_numpy(state_).float()\n",
    "        is_over = False\n",
    "\n",
    "        while (not is_over):\n",
    "            # runs the Q-network to calculate the Q values for all actions\n",
    "            qval = model(state1)\n",
    "            qval_ = qval.data.numpy()\n",
    "            # use epsilon-greedy to select an action\n",
    "            if random.random() < epsilon:\n",
    "                action_ = np.random.randint(0, 4)\n",
    "            else:\n",
    "                action_ = np.argmax(qval_)\n",
    "\n",
    "            # take the action\n",
    "            action = action_set[action_]\n",
    "            game.makeMove(action)\n",
    "            # after making the move, finds the maximum Q value from the\n",
    "            # new state\n",
    "            state2_ = game.board.render_np().reshape(1, 64) \\\n",
    "                + np.random.rand(1, 64) / 10.0\n",
    "            state2 = torch.from_numpy(state2_).float()\n",
    "            reward = game.reward()\n",
    "            with torch.no_grad():\n",
    "                newQ = model(state2.reshape(1, 64))\n",
    "            maxQ = torch.max(newQ)\n",
    "\n",
    "            if reward == -1:\n",
    "                Y = reward + (gamma * maxQ)\n",
    "            else:\n",
    "                Y = reward\n",
    "\n",
    "            Y = torch.Tensor([Y]).detach()\n",
    "            X = qval.squeeze()[action_]\n",
    "            loss = loss_fn(X, Y)\n",
    "            optimizer.zero_grad()\n",
    "            loss.backend()\n",
    "            losses.append(loss.item())\n",
    "            optimizer.step()\n",
    "            state1 = state2\n",
    "            if reward != -1:\n",
    "                is_over = True\n",
    "\n",
    "        if epsilon > 0.1:\n",
    "            epsilon -= (1/epochs)\n",
    "\n",
    "    return losses\n"
   ]
  },
  {
   "cell_type": "code",
   "execution_count": 19,
   "metadata": {},
   "outputs": [
    {
     "ename": "UnboundLocalError",
     "evalue": "local variable 'epsilon' referenced before assignment",
     "output_type": "error",
     "traceback": [
      "\u001b[0;31m---------------------------------------------------------------------------\u001b[0m",
      "\u001b[0;31mUnboundLocalError\u001b[0m                         Traceback (most recent call last)",
      "\u001b[1;32m/Users/bifnudozhao/Projects/ai-playground/reinforcement_learning/grid_world_with_deep_q_learning.ipynb Cell 10\u001b[0m line \u001b[0;36m1\n\u001b[0;32m----> <a href='vscode-notebook-cell:/Users/bifnudozhao/Projects/ai-playground/reinforcement_learning/grid_world_with_deep_q_learning.ipynb#X12sZmlsZQ%3D%3D?line=0'>1</a>\u001b[0m losses \u001b[39m=\u001b[39m train(epochs)\n",
      "\u001b[1;32m/Users/bifnudozhao/Projects/ai-playground/reinforcement_learning/grid_world_with_deep_q_learning.ipynb Cell 10\u001b[0m line \u001b[0;36m1\n\u001b[1;32m     <a href='vscode-notebook-cell:/Users/bifnudozhao/Projects/ai-playground/reinforcement_learning/grid_world_with_deep_q_learning.ipynb#X12sZmlsZQ%3D%3D?line=15'>16</a>\u001b[0m qval_ \u001b[39m=\u001b[39m qval\u001b[39m.\u001b[39mdata\u001b[39m.\u001b[39mnumpy()\n\u001b[1;32m     <a href='vscode-notebook-cell:/Users/bifnudozhao/Projects/ai-playground/reinforcement_learning/grid_world_with_deep_q_learning.ipynb#X12sZmlsZQ%3D%3D?line=16'>17</a>\u001b[0m \u001b[39m# use epsilon-greedy to select an action\u001b[39;00m\n\u001b[0;32m---> <a href='vscode-notebook-cell:/Users/bifnudozhao/Projects/ai-playground/reinforcement_learning/grid_world_with_deep_q_learning.ipynb#X12sZmlsZQ%3D%3D?line=17'>18</a>\u001b[0m \u001b[39mif\u001b[39;00m (random\u001b[39m.\u001b[39mrandom() \u001b[39m<\u001b[39m epsilon):\n\u001b[1;32m     <a href='vscode-notebook-cell:/Users/bifnudozhao/Projects/ai-playground/reinforcement_learning/grid_world_with_deep_q_learning.ipynb#X12sZmlsZQ%3D%3D?line=18'>19</a>\u001b[0m     action_ \u001b[39m=\u001b[39m np\u001b[39m.\u001b[39mrandom\u001b[39m.\u001b[39mrandint(\u001b[39m0\u001b[39m, \u001b[39m4\u001b[39m)\n\u001b[1;32m     <a href='vscode-notebook-cell:/Users/bifnudozhao/Projects/ai-playground/reinforcement_learning/grid_world_with_deep_q_learning.ipynb#X12sZmlsZQ%3D%3D?line=19'>20</a>\u001b[0m \u001b[39melse\u001b[39;00m:\n",
      "\u001b[0;31mUnboundLocalError\u001b[0m: local variable 'epsilon' referenced before assignment"
     ]
    }
   ],
   "source": [
    "losses = train(epochs)"
   ]
  },
  {
   "cell_type": "code",
   "execution_count": null,
   "metadata": {},
   "outputs": [],
   "source": []
  }
 ],
 "metadata": {
  "kernelspec": {
   "display_name": "tensorflow",
   "language": "python",
   "name": "python3"
  },
  "language_info": {
   "codemirror_mode": {
    "name": "ipython",
    "version": 3
   },
   "file_extension": ".py",
   "mimetype": "text/x-python",
   "name": "python",
   "nbconvert_exporter": "python",
   "pygments_lexer": "ipython3",
   "version": "3.9.18"
  }
 },
 "nbformat": 4,
 "nbformat_minor": 2
}

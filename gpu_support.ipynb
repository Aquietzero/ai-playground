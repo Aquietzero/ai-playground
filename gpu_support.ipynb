{
 "cells": [
  {
   "cell_type": "markdown",
   "metadata": {},
   "source": [
    "# 在 mac m1 上增加 gpu 的支持\n",
    "\n",
    "tensorflow 本身支持 cpu/gpu，对于卷积网络的训练来说，单纯 cpu 训练会非常慢，所以很有必要添加 gpu 的支持。"
   ]
  },
  {
   "cell_type": "markdown",
   "metadata": {},
   "source": [
    "## 安装 Xcode 命令行工具\n",
    "\n",
    "如果没安装过 xcode 命令行工具的话需要先安装一下。\n",
    "\n",
    "```\n",
    "xcode-select --install\n",
    "```"
   ]
  },
  {
   "cell_type": "markdown",
   "metadata": {},
   "source": [
    "## 安装 m1 版的 miniconda\n",
    "\n",
    "在[这里](https://docs.conda.io/en/latest/miniconda.html)安装 miniconda。"
   ]
  },
  {
   "cell_type": "markdown",
   "metadata": {},
   "source": [
    "## 安装 tensorflow\n",
    "\n",
    "安装完 miniconda 之后，需要在 conda 环境里安装相关依赖。先创建一个 conda 环境。\n",
    "\n",
    "```\n",
    "conda create --name tensorflow python=3.9\n",
    "```\n",
    "\n",
    "然后进入 conda 环境\n",
    "\n",
    "```\n",
    "conda activate tensorflow\n",
    "```\n",
    "\n",
    "然后安装相关依赖\n",
    "\n",
    "```\n",
    "conda install -c apple tensorflow-deps\n",
    "pip install tensorflow-macos\n",
    "pip install tensorflow-metal\n",
    "```\n",
    "\n",
    "注意，这里要用 pip 来安装，这个 pip 是 conda 环境里的 pip，只有用这个 pip 安装，才能使包装在 conda 环境里。"
   ]
  },
  {
   "cell_type": "markdown",
   "metadata": {},
   "source": [
    "## 检查 gpu 可用性\n",
    "\n",
    "安装完上面的依赖之后，就可以使用下面的代码检查 gpu 是否可用了。"
   ]
  },
  {
   "cell_type": "code",
   "execution_count": 4,
   "metadata": {},
   "outputs": [
    {
     "name": "stdout",
     "output_type": "stream",
     "text": [
      "Tensor Flow Version: 2.14.0\n",
      "\n",
      "Python 3.9.18 | packaged by conda-forge | (main, Aug 30 2023, 03:53:08) \n",
      "[Clang 15.0.7 ]\n",
      "GPU is available\n"
     ]
    }
   ],
   "source": [
    "# What version of Python do you have?\n",
    "import sys\n",
    "\n",
    "# import tensorflow.keras\n",
    "# import pandas as pd\n",
    "# import sklearn as sk\n",
    "import tensorflow as tf\n",
    "\n",
    "print(f\"Tensor Flow Version: {tf.__version__}\")\n",
    "# print(f\"Keras Version: {tensorflow.keras.__version__}\")\n",
    "print()\n",
    "print(f\"Python {sys.version}\")\n",
    "# print(f\"Pandas {pd.__version__}\")\n",
    "# print(f\"Scikit-Learn {sk.__version__}\")\n",
    "gpu = len(tf.config.list_physical_devices('GPU'))>0\n",
    "print(\"GPU is\", \"available\" if gpu else \"NOT AVAILABLE\")"
   ]
  },
  {
   "cell_type": "code",
   "execution_count": null,
   "metadata": {},
   "outputs": [],
   "source": []
  }
 ],
 "metadata": {
  "kernelspec": {
   "display_name": "Python 3",
   "language": "python",
   "name": "python3"
  },
  "language_info": {
   "codemirror_mode": {
    "name": "ipython",
    "version": 3
   },
   "file_extension": ".py",
   "mimetype": "text/x-python",
   "name": "python",
   "nbconvert_exporter": "python",
   "pygments_lexer": "ipython3",
   "version": "3.9.18"
  },
  "orig_nbformat": 4
 },
 "nbformat": 4,
 "nbformat_minor": 2
}

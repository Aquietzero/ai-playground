{
 "cells": [
  {
   "cell_type": "markdown",
   "metadata": {},
   "source": [
    "神经风格迁移分为三个步骤。\n",
    "\n",
    "1. 设置一个网络来同时计算 VGG19 网络对风格图片，目标图片，以及生成图片的层响应。\n",
    "2. 使用这三个图片的层响应来计算整体损失函数。\n",
    "3. 设置一个梯度下降过程来最小化这个损失函数。"
   ]
  },
  {
   "cell_type": "code",
   "execution_count": 1,
   "metadata": {},
   "outputs": [],
   "source": [
    "import tensorflow as tf\n",
    "\n",
    "tf.compat.v1.disable_eager_execution()\n",
    "\n",
    "from keras.preprocessing.image import load_img, img_to_array\n",
    "\n",
    "target_image_path = '/Users/bifnudozhao/Projects/ai-playground/datasets/images/firenze_duomo.jpg'\n",
    "style_reference_image_path = '/Users/bifnudozhao/Projects/ai-playground/datasets/images/starry_night.jpg'\n",
    "\n",
    "width, height = load_img(target_image_path).size\n",
    "img_height = 400\n",
    "img_width = int(width * img_height / height)"
   ]
  },
  {
   "cell_type": "code",
   "execution_count": 2,
   "metadata": {},
   "outputs": [],
   "source": [
    "import numpy as np\n",
    "from keras.applications import vgg19\n",
    "\n",
    "def preprocess_image(image_path):\n",
    "    img = load_img(image_path, target_size=(img_height, img_width))\n",
    "    img = img_to_array(img)\n",
    "    img = np.expand_dims(img, axis=0)\n",
    "    img = vgg19.preprocess_input(img)\n",
    "    return img\n",
    "\n",
    "# reverse vgg19.preprocess_input\n",
    "def deprocess_image(x):\n",
    "    x[:, :, 0] += 103.939\n",
    "    x[:, :, 1] += 116.779\n",
    "    x[:, :, 2] += 123.68\n",
    "    x = x[:, :, ::-1] # converts images from BGR to RGB\n",
    "    x = np.clip(x, 0, 255).astype('uint8')\n",
    "    return x"
   ]
  },
  {
   "cell_type": "markdown",
   "metadata": {},
   "source": [
    "下面来设置 VGG19 网络。它的输入是三张图片：原图，风格图片，以及最后的生成图片。原图和风格图片不会发生变化，所以使用 `K.constant`，而生成图则会一直发生变化。"
   ]
  },
  {
   "cell_type": "code",
   "execution_count": 3,
   "metadata": {},
   "outputs": [
    {
     "name": "stderr",
     "output_type": "stream",
     "text": [
      "2023-10-06 22:54:02.791701: I metal_plugin/src/device/metal_device.cc:1154] Metal device set to: Apple M1 Pro\n",
      "2023-10-06 22:54:02.791723: I metal_plugin/src/device/metal_device.cc:296] systemMemory: 32.00 GB\n",
      "2023-10-06 22:54:02.791729: I metal_plugin/src/device/metal_device.cc:313] maxCacheSize: 10.67 GB\n",
      "2023-10-06 22:54:02.791764: I tensorflow/core/common_runtime/pluggable_device/pluggable_device_factory.cc:306] Could not identify NUMA node of platform GPU ID 0, defaulting to 0. Your kernel may not have been built with NUMA support.\n",
      "2023-10-06 22:54:02.791779: I tensorflow/core/common_runtime/pluggable_device/pluggable_device_factory.cc:272] Created TensorFlow device (/job:localhost/replica:0/task:0/device:GPU:0 with 0 MB memory) -> physical PluggableDevice (device: 0, name: METAL, pci bus id: <undefined>)\n",
      "2023-10-06 22:54:02.800486: I tensorflow/compiler/mlir/mlir_graph_optimization_pass.cc:382] MLIR V1 optimization pass is not enabled\n",
      "2023-10-06 22:54:02.806540: I tensorflow/core/grappler/optimizers/custom_graph_optimizer_registry.cc:117] Plugin optimizer for device_type GPU is enabled.\n",
      "2023-10-06 22:54:02.822983: W tensorflow/c/c_api.cc:305] Operation '{name:'block5_conv1/bias/Assign' id:316 op device:{requested: '', assigned: ''} def:{{{node block5_conv1/bias/Assign}} = AssignVariableOp[_has_manual_control_dependencies=true, dtype=DT_FLOAT, validate_shape=false](block5_conv1/bias, block5_conv1/bias/Initializer/zeros)}}' was changed by setting attribute after it was run by a session. This mutation will have no effect, and will trigger an error in the future. Either don't modify nodes after running them or create a new session.\n"
     ]
    }
   ],
   "source": [
    "from keras import backend as K\n",
    "\n",
    "target_image = K.constant(preprocess_image(target_image_path))\n",
    "style_reference_image = K.constant(preprocess_image(style_reference_image_path))\n",
    "combination_image = K.placeholder((1, img_height, img_width, 3))\n",
    "\n",
    "input_tensor = K.concatenate([target_image,\n",
    "                              style_reference_image,\n",
    "                              combination_image], axis=0)\n",
    "\n",
    "model = vgg19.VGG19(input_tensor=input_tensor,\n",
    "                    weights='imagenet',\n",
    "                    include_top=False) # without the last categorical layer"
   ]
  },
  {
   "cell_type": "code",
   "execution_count": 4,
   "metadata": {},
   "outputs": [],
   "source": [
    "def content_loss(base, combination):\n",
    "    return K.sum(K.square(combination - base))\n",
    "\n",
    "def gram_matrix(x):\n",
    "    features = K.batch_flatten(K.permute_dimensions(x, (2, 0, 1)))\n",
    "    gram = K.dot(features, K.transpose(features))\n",
    "    return gram\n",
    "\n",
    "def style_loss(style, combination):\n",
    "    S = gram_matrix(style)\n",
    "    C = gram_matrix(combination)\n",
    "    channels = 3\n",
    "    size = img_height * img_width\n",
    "    return K.sum(K.square(S - C)) / (4. * (channels ** 2) * (size ** 2))\n",
    "\n",
    "def total_variation_loss(x):\n",
    "    a = K.square(\n",
    "        x[:, :img_height - 1, :img_width - 1, :] -\n",
    "        x[:, 1:, :img_width - 1, :])\n",
    "    b = K.square(\n",
    "        x[:, :img_height - 1, :img_width - 1, :] -\n",
    "        x[:, :img_height - 1, 1:, :])\n",
    "    return K.sum(K.pow(a + b, 1.25))"
   ]
  },
  {
   "cell_type": "code",
   "execution_count": 5,
   "metadata": {},
   "outputs": [],
   "source": [
    "outputs_dict = dict([(layer.name, layer.output) for layer in model.layers])\n",
    "content_layer = 'block5_conv2'\n",
    "style_layers = [\n",
    "    'block1_conv1',\n",
    "    'block2_conv1',\n",
    "    'block3_conv1',\n",
    "    'block4_conv1',\n",
    "    'block5_conv1']\n",
    "total_variation_weight = 1e-4\n",
    "style_weight = 1.\n",
    "content_weight = 0.025\n",
    "\n",
    "loss = K.variable(0.)\n",
    "layer_features = outputs_dict[content_layer]\n",
    "target_image_features = layer_features[0, :, :, :]\n",
    "combination_features = layer_features[2, :, :, :]\n",
    "loss = loss + content_weight * content_loss(target_image_features,\n",
    "                                      combination_features)\n",
    "\n",
    "for layer_name in style_layers:\n",
    "    layer_features = outputs_dict[layer_name]\n",
    "    style_reference_features = layer_features[1, :, :, :]\n",
    "    combination_features = layer_features[2, :, :, :]\n",
    "    sl = style_loss(style_reference_features, combination_features)\n",
    "    loss = loss + (style_weight / len(style_layers)) * sl\n",
    "\n",
    "loss = loss + total_variation_weight * total_variation_loss(combination_image)"
   ]
  },
  {
   "cell_type": "code",
   "execution_count": 6,
   "metadata": {},
   "outputs": [],
   "source": [
    "grads = K.gradients(loss, combination_image)[0]\n",
    "fetch_loss_and_grads = K.function([combination_image], [loss, grads])"
   ]
  },
  {
   "cell_type": "code",
   "execution_count": 7,
   "metadata": {},
   "outputs": [],
   "source": [
    "class Evaluator(object):\n",
    "    def __init__(self):\n",
    "        self.loss_value = None\n",
    "        self.grads_values = None\n",
    "\n",
    "    def loss(self, x):\n",
    "        assert self.loss_value is None\n",
    "        x = x.reshape((1, img_height, img_width, 3))\n",
    "        outs = fetch_loss_and_grads([x])\n",
    "        loss_value = outs[0]\n",
    "        grad_values = outs[1].flatten().astype('float64')\n",
    "        self.loss_value = loss_value\n",
    "        self.grad_values = grad_values\n",
    "        return self.loss_value\n",
    "\n",
    "    def grads(self, x):\n",
    "        assert self.loss_value is not None\n",
    "        grad_values = np.copy(self.grad_values)\n",
    "        self.loss_value = None\n",
    "        self.grad_values = None\n",
    "        return grad_values\n",
    "\n",
    "evaluator = Evaluator()"
   ]
  },
  {
   "cell_type": "code",
   "execution_count": 8,
   "metadata": {},
   "outputs": [
    {
     "name": "stdout",
     "output_type": "stream",
     "text": [
      "Start of iteration  0\n"
     ]
    },
    {
     "name": "stderr",
     "output_type": "stream",
     "text": [
      "2023-10-06 22:54:04.192186: W tensorflow/c/c_api.cc:305] Operation '{name:'Variable/Assign' id:528 op device:{requested: '', assigned: ''} def:{{{node Variable/Assign}} = AssignVariableOp[_has_manual_control_dependencies=true, dtype=DT_FLOAT, validate_shape=false](Variable, Variable/Initializer/initial_value)}}' was changed by setting attribute after it was run by a session. This mutation will have no effect, and will trigger an error in the future. Either don't modify nodes after running them or create a new session.\n"
     ]
    },
    {
     "name": "stdout",
     "output_type": "stream",
     "text": [
      "Current loss value  1479477500.0\n",
      "Image saved as  /Users/bifnudozhao/Projects/ai-playground/results/neural_style_transfer/duomo_at_iteration_0.png\n",
      "Iteration 0 completed in 14s\n",
      "Start of iteration  1\n",
      "Current loss value  514530620.0\n",
      "Image saved as  /Users/bifnudozhao/Projects/ai-playground/results/neural_style_transfer/duomo_at_iteration_1.png\n",
      "Iteration 1 completed in 8s\n",
      "Start of iteration  2\n",
      "Current loss value  326447550.0\n",
      "Image saved as  /Users/bifnudozhao/Projects/ai-playground/results/neural_style_transfer/duomo_at_iteration_2.png\n",
      "Iteration 2 completed in 9s\n",
      "Start of iteration  3\n",
      "Current loss value  232816240.0\n",
      "Image saved as  /Users/bifnudozhao/Projects/ai-playground/results/neural_style_transfer/duomo_at_iteration_3.png\n",
      "Iteration 3 completed in 9s\n",
      "Start of iteration  4\n",
      "Current loss value  193397150.0\n",
      "Image saved as  /Users/bifnudozhao/Projects/ai-playground/results/neural_style_transfer/duomo_at_iteration_4.png\n",
      "Iteration 4 completed in 9s\n",
      "Start of iteration  5\n",
      "Current loss value  169845230.0\n",
      "Image saved as  /Users/bifnudozhao/Projects/ai-playground/results/neural_style_transfer/duomo_at_iteration_5.png\n",
      "Iteration 5 completed in 8s\n",
      "Start of iteration  6\n",
      "Current loss value  154138910.0\n",
      "Image saved as  /Users/bifnudozhao/Projects/ai-playground/results/neural_style_transfer/duomo_at_iteration_6.png\n",
      "Iteration 6 completed in 8s\n",
      "Start of iteration  7\n",
      "Current loss value  139413900.0\n",
      "Image saved as  /Users/bifnudozhao/Projects/ai-playground/results/neural_style_transfer/duomo_at_iteration_7.png\n",
      "Iteration 7 completed in 8s\n",
      "Start of iteration  8\n",
      "Current loss value  129635860.0\n",
      "Image saved as  /Users/bifnudozhao/Projects/ai-playground/results/neural_style_transfer/duomo_at_iteration_8.png\n",
      "Iteration 8 completed in 8s\n",
      "Start of iteration  9\n",
      "Current loss value  117685040.0\n",
      "Image saved as  /Users/bifnudozhao/Projects/ai-playground/results/neural_style_transfer/duomo_at_iteration_9.png\n",
      "Iteration 9 completed in 8s\n",
      "Start of iteration  10\n",
      "Current loss value  111113340.0\n",
      "Image saved as  /Users/bifnudozhao/Projects/ai-playground/results/neural_style_transfer/duomo_at_iteration_10.png\n",
      "Iteration 10 completed in 8s\n",
      "Start of iteration  11\n",
      "Current loss value  103928010.0\n",
      "Image saved as  /Users/bifnudozhao/Projects/ai-playground/results/neural_style_transfer/duomo_at_iteration_11.png\n",
      "Iteration 11 completed in 8s\n",
      "Start of iteration  12\n",
      "Current loss value  96432170.0\n",
      "Image saved as  /Users/bifnudozhao/Projects/ai-playground/results/neural_style_transfer/duomo_at_iteration_12.png\n",
      "Iteration 12 completed in 8s\n",
      "Start of iteration  13\n",
      "Current loss value  90168536.0\n",
      "Image saved as  /Users/bifnudozhao/Projects/ai-playground/results/neural_style_transfer/duomo_at_iteration_13.png\n",
      "Iteration 13 completed in 8s\n",
      "Start of iteration  14\n",
      "Current loss value  85793760.0\n",
      "Image saved as  /Users/bifnudozhao/Projects/ai-playground/results/neural_style_transfer/duomo_at_iteration_14.png\n",
      "Iteration 14 completed in 9s\n",
      "Start of iteration  15\n",
      "Current loss value  82539900.0\n",
      "Image saved as  /Users/bifnudozhao/Projects/ai-playground/results/neural_style_transfer/duomo_at_iteration_15.png\n",
      "Iteration 15 completed in 8s\n",
      "Start of iteration  16\n",
      "Current loss value  80085350.0\n",
      "Image saved as  /Users/bifnudozhao/Projects/ai-playground/results/neural_style_transfer/duomo_at_iteration_16.png\n",
      "Iteration 16 completed in 9s\n",
      "Start of iteration  17\n",
      "Current loss value  78217780.0\n",
      "Image saved as  /Users/bifnudozhao/Projects/ai-playground/results/neural_style_transfer/duomo_at_iteration_17.png\n",
      "Iteration 17 completed in 8s\n",
      "Start of iteration  18\n",
      "Current loss value  76637030.0\n",
      "Image saved as  /Users/bifnudozhao/Projects/ai-playground/results/neural_style_transfer/duomo_at_iteration_18.png\n",
      "Iteration 18 completed in 9s\n",
      "Start of iteration  19\n",
      "Current loss value  75404460.0\n",
      "Image saved as  /Users/bifnudozhao/Projects/ai-playground/results/neural_style_transfer/duomo_at_iteration_19.png\n",
      "Iteration 19 completed in 8s\n"
     ]
    }
   ],
   "source": [
    "from scipy.optimize import fmin_l_bfgs_b\n",
    "import imageio\n",
    "import time\n",
    "\n",
    "result_prefix = '/Users/bifnudozhao/Projects/ai-playground/results/neural_style_transfer/duomo'\n",
    "iterations = 20\n",
    "\n",
    "x = preprocess_image(target_image_path)\n",
    "x = x.flatten()\n",
    "for i in range(iterations):\n",
    "    print('Start of iteration ', i)\n",
    "    start_time = time.time()\n",
    "    x, min_val, info = fmin_l_bfgs_b(evaluator.loss,\n",
    "                                     x,\n",
    "                                     fprime=evaluator.grads,\n",
    "                                     maxfun=20)\n",
    "    print('Current loss value ', min_val)\n",
    "    img = x.copy().reshape((img_height, img_width, 3))\n",
    "    img = deprocess_image(img)\n",
    "    fname = result_prefix + '_at_iteration_%d.png' % i\n",
    "    imageio.imwrite(fname, img)\n",
    "    print('Image saved as ', fname)\n",
    "    end_time = time.time()\n",
    "    print('Iteration %d completed in %ds' % (i, end_time - start_time))"
   ]
  },
  {
   "cell_type": "code",
   "execution_count": null,
   "metadata": {},
   "outputs": [],
   "source": []
  }
 ],
 "metadata": {
  "kernelspec": {
   "display_name": "tensorflow",
   "language": "python",
   "name": "python3"
  },
  "language_info": {
   "codemirror_mode": {
    "name": "ipython",
    "version": 3
   },
   "file_extension": ".py",
   "mimetype": "text/x-python",
   "name": "python",
   "nbconvert_exporter": "python",
   "pygments_lexer": "ipython3",
   "version": "3.9.18"
  },
  "orig_nbformat": 4
 },
 "nbformat": 4,
 "nbformat_minor": 2
}
